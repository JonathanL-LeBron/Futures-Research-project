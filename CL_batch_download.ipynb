{
 "cells": [
  {
   "cell_type": "code",
   "execution_count": 1,
   "id": "71b5982c",
   "metadata": {},
   "outputs": [
    {
     "name": "stdout",
     "output_type": "stream",
     "text": [
      "Collecting databento\n",
      "  Downloading databento-0.57.0-py3-none-any.whl.metadata (6.8 kB)\n",
      "Collecting aiohttp<4.0.0,>=3.8.3 (from databento)\n",
      "  Downloading aiohttp-3.12.13-cp310-cp310-macosx_11_0_arm64.whl.metadata (7.6 kB)\n",
      "Collecting databento-dbn==0.36.0 (from databento)\n",
      "  Downloading databento_dbn-0.36.0-cp310-cp310-macosx_10_12_x86_64.macosx_11_0_arm64.macosx_10_12_universal2.whl.metadata (2.2 kB)\n",
      "Requirement already satisfied: numpy>=1.23.5 in /opt/anaconda3/envs/myenv/lib/python3.10/site-packages (from databento) (2.2.4)\n",
      "Requirement already satisfied: pandas>=1.5.3 in /opt/anaconda3/envs/myenv/lib/python3.10/site-packages (from databento) (2.2.3)\n",
      "Requirement already satisfied: pyarrow>=13.0.0 in /opt/anaconda3/envs/myenv/lib/python3.10/site-packages (from databento) (19.0.0)\n",
      "Requirement already satisfied: requests>=2.25.1 in /opt/anaconda3/envs/myenv/lib/python3.10/site-packages (from databento) (2.32.3)\n",
      "Collecting zstandard>=0.21.0 (from databento)\n",
      "  Downloading zstandard-0.23.0-cp310-cp310-macosx_11_0_arm64.whl.metadata (3.0 kB)\n",
      "Collecting aiohappyeyeballs>=2.5.0 (from aiohttp<4.0.0,>=3.8.3->databento)\n",
      "  Downloading aiohappyeyeballs-2.6.1-py3-none-any.whl.metadata (5.9 kB)\n",
      "Collecting aiosignal>=1.1.2 (from aiohttp<4.0.0,>=3.8.3->databento)\n",
      "  Downloading aiosignal-1.3.2-py2.py3-none-any.whl.metadata (3.8 kB)\n",
      "Collecting async-timeout<6.0,>=4.0 (from aiohttp<4.0.0,>=3.8.3->databento)\n",
      "  Downloading async_timeout-5.0.1-py3-none-any.whl.metadata (5.1 kB)\n",
      "Requirement already satisfied: attrs>=17.3.0 in /opt/anaconda3/envs/myenv/lib/python3.10/site-packages (from aiohttp<4.0.0,>=3.8.3->databento) (24.3.0)\n",
      "Collecting frozenlist>=1.1.1 (from aiohttp<4.0.0,>=3.8.3->databento)\n",
      "  Downloading frozenlist-1.7.0-cp310-cp310-macosx_11_0_arm64.whl.metadata (18 kB)\n",
      "Collecting multidict<7.0,>=4.5 (from aiohttp<4.0.0,>=3.8.3->databento)\n",
      "  Downloading multidict-6.5.0-cp310-cp310-macosx_11_0_arm64.whl.metadata (5.3 kB)\n",
      "Collecting propcache>=0.2.0 (from aiohttp<4.0.0,>=3.8.3->databento)\n",
      "  Downloading propcache-0.3.2-cp310-cp310-macosx_11_0_arm64.whl.metadata (12 kB)\n",
      "Collecting yarl<2.0,>=1.17.0 (from aiohttp<4.0.0,>=3.8.3->databento)\n",
      "  Downloading yarl-1.20.1-cp310-cp310-macosx_11_0_arm64.whl.metadata (73 kB)\n",
      "Requirement already satisfied: python-dateutil>=2.8.2 in /opt/anaconda3/envs/myenv/lib/python3.10/site-packages (from pandas>=1.5.3->databento) (2.9.0.post0)\n",
      "Requirement already satisfied: pytz>=2020.1 in /opt/anaconda3/envs/myenv/lib/python3.10/site-packages (from pandas>=1.5.3->databento) (2024.1)\n",
      "Requirement already satisfied: tzdata>=2022.7 in /opt/anaconda3/envs/myenv/lib/python3.10/site-packages (from pandas>=1.5.3->databento) (2023.3)\n",
      "Requirement already satisfied: charset-normalizer<4,>=2 in /opt/anaconda3/envs/myenv/lib/python3.10/site-packages (from requests>=2.25.1->databento) (3.3.2)\n",
      "Requirement already satisfied: idna<4,>=2.5 in /opt/anaconda3/envs/myenv/lib/python3.10/site-packages (from requests>=2.25.1->databento) (3.7)\n",
      "Requirement already satisfied: urllib3<3,>=1.21.1 in /opt/anaconda3/envs/myenv/lib/python3.10/site-packages (from requests>=2.25.1->databento) (2.3.0)\n",
      "Requirement already satisfied: certifi>=2017.4.17 in /opt/anaconda3/envs/myenv/lib/python3.10/site-packages (from requests>=2.25.1->databento) (2025.1.31)\n",
      "Requirement already satisfied: typing-extensions>=4.1.0 in /opt/anaconda3/envs/myenv/lib/python3.10/site-packages (from multidict<7.0,>=4.5->aiohttp<4.0.0,>=3.8.3->databento) (4.13.2)\n",
      "Requirement already satisfied: six>=1.5 in /opt/anaconda3/envs/myenv/lib/python3.10/site-packages (from python-dateutil>=2.8.2->pandas>=1.5.3->databento) (1.17.0)\n",
      "Downloading databento-0.57.0-py3-none-any.whl (83 kB)\n",
      "Downloading databento_dbn-0.36.0-cp310-cp310-macosx_10_12_x86_64.macosx_11_0_arm64.macosx_10_12_universal2.whl (2.9 MB)\n",
      "\u001b[2K   \u001b[90m━━━━━━━━━━━━━━━━━━━━━━━━━━━━━━━━━━━━━━━━\u001b[0m \u001b[32m2.9/2.9 MB\u001b[0m \u001b[31m4.6 MB/s\u001b[0m eta \u001b[36m0:00:00\u001b[0ma \u001b[36m0:00:01\u001b[0m\n",
      "\u001b[?25hDownloading aiohttp-3.12.13-cp310-cp310-macosx_11_0_arm64.whl (466 kB)\n",
      "Downloading zstandard-0.23.0-cp310-cp310-macosx_11_0_arm64.whl (633 kB)\n",
      "\u001b[2K   \u001b[90m━━━━━━━━━━━━━━━━━━━━━━━━━━━━━━━━━━━━━━━━\u001b[0m \u001b[32m633.7/633.7 kB\u001b[0m \u001b[31m15.2 MB/s\u001b[0m eta \u001b[36m0:00:00\u001b[0m\n",
      "\u001b[?25hDownloading aiohappyeyeballs-2.6.1-py3-none-any.whl (15 kB)\n",
      "Downloading aiosignal-1.3.2-py2.py3-none-any.whl (7.6 kB)\n",
      "Downloading async_timeout-5.0.1-py3-none-any.whl (6.2 kB)\n",
      "Downloading frozenlist-1.7.0-cp310-cp310-macosx_11_0_arm64.whl (46 kB)\n",
      "Downloading multidict-6.5.0-cp310-cp310-macosx_11_0_arm64.whl (43 kB)\n",
      "Downloading propcache-0.3.2-cp310-cp310-macosx_11_0_arm64.whl (43 kB)\n",
      "Downloading yarl-1.20.1-cp310-cp310-macosx_11_0_arm64.whl (89 kB)\n",
      "Installing collected packages: zstandard, propcache, multidict, frozenlist, databento-dbn, async-timeout, aiohappyeyeballs, yarl, aiosignal, aiohttp, databento\n",
      "Successfully installed aiohappyeyeballs-2.6.1 aiohttp-3.12.13 aiosignal-1.3.2 async-timeout-5.0.1 databento-0.57.0 databento-dbn-0.36.0 frozenlist-1.7.0 multidict-6.5.0 propcache-0.3.2 yarl-1.20.1 zstandard-0.23.0\n",
      "Note: you may need to restart the kernel to use updated packages.\n"
     ]
    }
   ],
   "source": [
    "pip install databento"
   ]
  },
  {
   "cell_type": "code",
   "execution_count": 31,
   "id": "a62ff356",
   "metadata": {},
   "outputs": [],
   "source": [
    "import databento as db\n",
    "from datetime import date"
   ]
  },
  {
   "cell_type": "code",
   "execution_count": 35,
   "id": "fffc3139",
   "metadata": {},
   "outputs": [],
   "source": [
    "client = db.Historical(\"db-5tVb5dJn6cfyiAKfyBpvC5wKa5wu9\")"
   ]
  },
  {
   "cell_type": "code",
   "execution_count": 36,
   "id": "89ef7d6e",
   "metadata": {},
   "outputs": [
    {
     "name": "stdout",
     "output_type": "stream",
     "text": [
      "✅ All files downloaded to cl_data/\n"
     ]
    }
   ],
   "source": [
    "client.batch.download(\n",
    "    job_id=\"GLBX-20250619-4QAUVDJ5F6\",  \n",
    "    output_dir=\"cl_data/\"            \n",
    ")\n",
    "\n",
    "print(\"✅ All files downloaded to cl_data/\")"
   ]
  },
  {
   "cell_type": "code",
   "execution_count": null,
   "id": "960b85c1",
   "metadata": {},
   "outputs": [],
   "source": []
  }
 ],
 "metadata": {
  "kernelspec": {
   "display_name": "myenv",
   "language": "python",
   "name": "python3"
  },
  "language_info": {
   "codemirror_mode": {
    "name": "ipython",
    "version": 3
   },
   "file_extension": ".py",
   "mimetype": "text/x-python",
   "name": "python",
   "nbconvert_exporter": "python",
   "pygments_lexer": "ipython3",
   "version": "3.10.13"
  }
 },
 "nbformat": 4,
 "nbformat_minor": 5
}
