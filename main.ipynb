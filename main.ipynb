{
 "cells": [
  {
   "cell_type": "code",
   "execution_count": 2,
   "id": "efa5c3c9",
   "metadata": {},
   "outputs": [],
   "source": [
    "import sys\n",
    "import pandas as pd\n",
    "from orderbook import OrderBook\n",
    "import glob"
   ]
  },
  {
   "cell_type": "code",
   "execution_count": null,
   "id": "ae349b29",
   "metadata": {},
   "outputs": [],
   "source": [
    "df = pd.read_parquet('CL'/'outright'/'CLF5'/'20240101'/)"
   ]
  },
  {
   "cell_type": "code",
   "execution_count": null,
   "id": "deb074e0",
   "metadata": {},
   "outputs": [],
   "source": [
    "def rebuild_orderbook(parquet_path: str) -> OrderBook:\n",
    "    # Read the parquet dataset\n",
    "    # Grab every .parquet file in the CL folder\n",
    "    paths = sorted(glob.glob(os.path.join(cl_dir, '*.parquet')))\n",
    "    # Read & concatenate them into one DataFrame\n",
    "    df = pd.concat((pd.read_parquet(p) for p in paths), ignore_index=True)\n",
    "\n",
    "    book = OrderBook()\n",
    "    for msg in df.itertuples(index=False):\n",
    "        action = msg.action\n",
    "        oid = msg.order_id\n",
    "        # Some messages (e.g. trades) may not have side/price/size\n",
    "        side = getattr(msg, 'side', None)\n",
    "        price = getattr(msg, 'price', None)\n",
    "        size = getattr(msg, 'size', None)\n",
    "\n",
    "        if action == 'Add':\n",
    "            book.add_order(oid, side, price, size)\n",
    "        elif action == 'Modify':\n",
    "            # here msg.size is the new size\n",
    "            book.modify_order(oid, size)\n",
    "        elif action == 'Cancel':\n",
    "            book.cancel_order(oid)\n",
    "        elif action in ('Fill', 'Trade'):\n",
    "            # msg.size is the filled quantity\n",
    "            book.fill_order(oid, size)\n",
    "        else:\n",
    "            # ignore unknown actions\n",
    "            continue\n",
    "\n",
    "    return book\n",
    "\n",
    "\n",
    "if __name__ == '__main__':\n",
    "    if len(sys.argv) < 2:\n",
    "        print(\"Usage: python main.py <path_to_parquet>\")\n",
    "        sys.exit(1)\n",
    "\n",
    "    parquet_file = sys.argv[1]\n",
    "    ob = rebuild_orderbook(parquet_file)\n",
    "\n",
    "    # Example: print top-of-book\n",
    "    try:\n",
    "        best_bid = next(iter(ob.bids.items()))\n",
    "        best_ask = next(iter(ob.asks.items()))\n",
    "        print(f\"Best bid: {best_bid[0]} x {best_bid[1].total_size}\")\n",
    "        print(f\"Best ask: {best_ask[0]} x {best_ask[1].total_size}\")\n",
    "    except StopIteration:\n",
    "        print(\"Book is empty.\")\n"
   ]
  }
 ],
 "metadata": {
  "kernelspec": {
   "display_name": "myenv",
   "language": "python",
   "name": "python3"
  },
  "language_info": {
   "codemirror_mode": {
    "name": "ipython",
    "version": 3
   },
   "file_extension": ".py",
   "mimetype": "text/x-python",
   "name": "python",
   "nbconvert_exporter": "python",
   "pygments_lexer": "ipython3",
   "version": "3.10.13"
  }
 },
 "nbformat": 4,
 "nbformat_minor": 5
}
